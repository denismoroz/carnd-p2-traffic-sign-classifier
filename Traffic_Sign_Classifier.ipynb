{
 "cells": [
  {
   "cell_type": "markdown",
   "metadata": {},
   "source": [
    "# Self-Driving Car Engineer Nanodegree\n",
    "\n",
    "## Deep Learning\n",
    "\n",
    "## Project: Build a Traffic Sign Recognition Classifier\n",
    "\n",
    "In this notebook, a template is provided for you to implement your functionality in stages which is required to successfully complete this project. If additional code is required that cannot be included in the notebook, be sure that the Python code is successfully imported and included in your submission, if necessary. Sections that begin with **'Implementation'** in the header indicate where you should begin your implementation for your project. Note that some sections of implementation are optional, and will be marked with **'Optional'** in the header.\n",
    "\n",
    "In addition to implementing code, there will be questions that you must answer which relate to the project and your implementation. Each section where you will answer a question is preceded by a **'Question'** header. Carefully read each question and provide thorough answers in the following text boxes that begin with **'Answer:'**. Your project submission will be evaluated based on your answers to each of the questions and the implementation you provide.\n",
    "\n",
    ">**Note:** Code and Markdown cells can be executed using the **Shift + Enter** keyboard shortcut. In addition, Markdown cells can be edited by typically double-clicking the cell to enter edit mode."
   ]
  },
  {
   "cell_type": "markdown",
   "metadata": {},
   "source": [
    "---\n",
    "## Step 0: Load The Data"
   ]
  },
  {
   "cell_type": "code",
   "execution_count": 1,
   "metadata": {
    "collapsed": true
   },
   "outputs": [],
   "source": [
    "# Load pickled data\n",
    "import pickle\n",
    "\n",
    "training_file = \"train.p\"\n",
    "testing_file = \"test.p\"\n",
    "\n",
    "with open(training_file, mode='rb') as f:\n",
    "    train = pickle.load(f)\n",
    "with open(testing_file, mode='rb') as f:\n",
    "    test = pickle.load(f)\n",
    "    \n",
    "X_train, y_train = train['features'], train['labels']\n",
    "X_test, y_test = test['features'], test['labels']"
   ]
  },
  {
   "cell_type": "markdown",
   "metadata": {},
   "source": [
    "---\n",
    "\n",
    "## Step 1: Dataset Summary & Exploration\n",
    "\n",
    "The pickled data is a dictionary with 4 key/value pairs:\n",
    "\n",
    "- `'features'` is a 4D array containing raw pixel data of the traffic sign images, (num examples, width, height, channels).\n",
    "- `'labels'` is a 1D array containing the label/class id of the traffic sign. The file `signnames.csv` contains id -> name mappings for each id.\n",
    "- `'sizes'` is a list containing tuples, (width, height) representing the the original width and height the image.\n",
    "- `'coords'` is a list containing tuples, (x1, y1, x2, y2) representing coordinates of a bounding box around the sign in the image. **THESE COORDINATES ASSUME THE ORIGINAL IMAGE. THE PICKLED DATA CONTAINS RESIZED VERSIONS (32 by 32) OF THESE IMAGES**\n",
    "\n",
    "Complete the basic data summary below."
   ]
  },
  {
   "cell_type": "code",
   "execution_count": 2,
   "metadata": {
    "collapsed": false
   },
   "outputs": [
    {
     "name": "stdout",
     "output_type": "stream",
     "text": [
      "Number of training examples = 39209\n",
      "Number of testing examples = 12630\n",
      "Image data shape = (32, 32, 3)\n",
      "Number of classes = 43\n"
     ]
    }
   ],
   "source": [
    "n_train = len(X_train)\n",
    "\n",
    "# Number of testing examples.\n",
    "n_test = len(X_test)\n",
    "\n",
    "# What's the shape of an traffic sign image?\n",
    "image_shape = X_train[0].shape\n",
    "\n",
    "# How many unique classes/labels there are in the dataset.\n",
    "n_classes = 43\n",
    "\n",
    "print(\"Number of training examples =\", n_train)\n",
    "print(\"Number of testing examples =\", n_test)\n",
    "print(\"Image data shape =\", image_shape)\n",
    "print(\"Number of classes =\", n_classes)"
   ]
  },
  {
   "cell_type": "markdown",
   "metadata": {},
   "source": [
    "Visualize the German Traffic Signs Dataset using the pickled file(s). This is open ended, suggestions include: plotting traffic sign images, plotting the count of each sign, etc.\n",
    "\n",
    "The [Matplotlib](http://matplotlib.org/) [examples](http://matplotlib.org/examples/index.html) and [gallery](http://matplotlib.org/gallery.html) pages are a great resource for doing visualizations in Python.\n",
    "\n",
    "**NOTE:** It's recommended you start with something simple first. If you wish to do more, come back to it after you've completed the rest of the sections."
   ]
  },
  {
   "cell_type": "code",
   "execution_count": 3,
   "metadata": {
    "collapsed": false
   },
   "outputs": [
    {
     "name": "stdout",
     "output_type": "stream",
     "text": [
      "Index = 19565\n",
      "['12', 'Priority road']\n"
     ]
    },
    {
     "data": {
      "image/png": "[encoded data removed]",
      "text/plain": [
       "<matplotlib.figure.Figure at 0x10e4ab2e8>"
      ]
     },
     "metadata": {},
     "output_type": "display_data"
    }
   ],
   "source": [
    "### Data exploration visualization goes here.\n",
    "### Feel free to use as many code cells as needed.\n",
    "import matplotlib.pyplot as plt\n",
    "# Visualizations will be shown in the notebook.\n",
    "%matplotlib inline\n",
    "\n",
    "import random\n",
    "\n",
    "index = random.randint(0, len(X_train))\n",
    "print(\"Index = {}\".format(index))\n",
    "image = X_train[index].squeeze()\n",
    "\n",
    "plt.imshow(image)\n",
    "\n",
    "import csv\n",
    "\n",
    "with open('signnames.csv', newline='') as f:\n",
    "    reader = csv.reader(f)\n",
    "    for row in reader:\n",
    "        try:\n",
    "            if int(row[0]) == y_train[index]:\n",
    "                print(row)\n",
    "        except ValueError:\n",
    "            continue"
   ]
  },
  {
   "cell_type": "code",
   "execution_count": 4,
   "metadata": {
    "collapsed": false
   },
   "outputs": [
    {
     "data": {
      "text/plain": [
       "<matplotlib.text.Text at 0x12629bc88>"
      ]
     },
     "execution_count": 4,
     "metadata": {},
     "output_type": "execute_result"
    },
    {
     "data": {
      "image/png": "[encoded data removed]",
      "text/plain": [
       "<matplotlib.figure.Figure at 0x109049be0>"
      ]
     },
     "metadata": {},
     "output_type": "display_data"
    }
   ],
   "source": [
    "import numpy as np\n",
    "# Visualization\n",
    "values, counts = np.unique(y_train, return_counts=True)\n",
    "plt.figure()\n",
    "plt.bar(values, counts, color=\"green\")\n",
    "plt.ylabel(\"Images\")\n",
    "plt.xlabel('Classes')\n",
    "plt.title('Number of Images Per Class')"
   ]
  },
  {
   "cell_type": "markdown",
   "metadata": {},
   "source": [
    "----\n",
    "\n",
    "## Step 2: Design and Test a Model Architecture\n",
    "\n",
    "Design and implement a deep learning model that learns to recognize traffic signs. Train and test your model on the [German Traffic Sign Dataset](http://benchmark.ini.rub.de/?section=gtsrb&subsection=dataset).\n",
    "\n",
    "There are various aspects to consider when thinking about this problem:\n",
    "\n",
    "- Neural network architecture\n",
    "- Play around preprocessing techniques (normalization, rgb to grayscale, etc)\n",
    "- Number of examples per label (some have more than others).\n",
    "- Generate fake data.\n",
    "\n",
    "Here is an example of a [published baseline model on this problem](http://yann.lecun.com/exdb/publis/pdf/sermanet-ijcnn-11.pdf). It's not required to be familiar with the approach used in the paper but, it's good practice to try to read papers like these.\n",
    "\n",
    "**NOTE:** The LeNet-5 implementation shown in the [classroom](https://classroom.udacity.com/nanodegrees/nd013/parts/fbf77062-5703-404e-b60c-95b78b2f3f9e/modules/6df7ae49-c61c-4bb2-a23e-6527e69209ec/lessons/601ae704-1035-4287-8b11-e2c2716217ad/concepts/d4aca031-508f-4e0b-b493-e7b706120f81) at the end of the CNN lesson is a solid starting point. You'll have to change the number of classes and possibly the preprocessing, but aside from that it's plug and play!"
   ]
  },
  {
   "cell_type": "markdown",
   "metadata": {},
   "source": [
    "### Implementation\n",
    "\n",
    "\n",
    "Use the code cell (or multiple code cells, if necessary) to implement the first step of your project. Once you have completed your implementation and are satisfied with the results, be sure to thoroughly answer the questions that follow."
   ]
  },
  {
   "cell_type": "markdown",
   "metadata": {},
   "source": [
    "### Question 1 \n",
    "\n",
    "_Describe how you preprocessed the data. Why did you choose that technique?_"
   ]
  },
  {
   "cell_type": "markdown",
   "metadata": {},
   "source": [
    "**Answer:**"
   ]
  },
  {
   "cell_type": "code",
   "execution_count": 5,
   "metadata": {
    "collapsed": false
   },
   "outputs": [],
   "source": [
    "import numpy as np\n",
    "import cv2\n",
    "\n",
    "\"\"\" \n",
    "    Grayscale images set.\n",
    "    \n",
    "    Network training hightly depens on training data. In current training sample set, color does not play a huge sense.\n",
    "    There are no signs with the same meaning but on different font in output classes. For example temporary signes \n",
    "    for speed that are has yelow background collor instead of white. \n",
    "    Gray scale in this case will help to reduce number of elements that network is trying to classify.\n",
    "   \n",
    "    \n",
    "    Input: image set loaded from a pickled files. \n",
    "    Output: grayscalled image set with image size 32x32x1 \n",
    "\"\"\"\n",
    "def grayscale(image_set):\n",
    "    res = np.empty([len(image_set), 32, 32, 1])\n",
    "    \n",
    "    for index in range(len(image_set)):\n",
    "        processed_image = cv2.cvtColor(image_set[index], cv2.COLOR_RGB2GRAY)\n",
    "        res[index] = processed_image[:, :, np.newaxis]\n",
    "        \n",
    "        \n",
    "    return res\n",
    "        \n",
    "X_train = grayscale(X_train)\n",
    "X_test = grayscale(X_test)\n"
   ]
  },
  {
   "cell_type": "markdown",
   "metadata": {},
   "source": [
    "### Question 2\n",
    "\n",
    "_Describe how you set up the training, validation and testing data for your model. **Optional**: If you generated additional data, how did you generate the data? Why did you generate the data? What are the differences in the new dataset (with generated data) from the original dataset?_"
   ]
  },
  {
   "cell_type": "markdown",
   "metadata": {},
   "source": [
    "**Answer:**\n",
    "\n",
    "I keep 10% of train data for validation and leave test data as is for later use."
   ]
  },
  {
   "cell_type": "code",
   "execution_count": 6,
   "metadata": {
    "collapsed": false
   },
   "outputs": [
    {
     "name": "stdout",
     "output_type": "stream",
     "text": [
      "\n",
      "Processed Image Shape: (32, 32, 1)\n",
      "\n",
      "Training Set:   35288 samples\n",
      "Validation Set: 3921 samples\n",
      "Test Set:       12630 samples\n"
     ]
    }
   ],
   "source": [
    "from sklearn.model_selection import train_test_split\n",
    "\n",
    "# Generate validation set. Take 10% from training set for validation and the rest to training.\n",
    "X_train, X_validation, y_train, y_validation = train_test_split(X_train, \n",
    "                                                                y_train, \n",
    "                                                                test_size=0.1, \n",
    "                                                                random_state=0)\n",
    "\n",
    "print()\n",
    "print(\"Processed Image Shape: {}\".format(X_train[0].shape))\n",
    "print()\n",
    "print(\"Training Set:   {} samples\".format(len(X_train)))\n",
    "print(\"Validation Set: {} samples\".format(len(X_validation)))\n",
    "print(\"Test Set:       {} samples\".format(len(X_test)))"
   ]
  },
  {
   "cell_type": "code",
   "execution_count": 7,
   "metadata": {
    "collapsed": true
   },
   "outputs": [],
   "source": [
    "from sklearn.utils import shuffle\n",
    "\n",
    "X_train, y_train = shuffle(X_train, y_train)"
   ]
  },
  {
   "cell_type": "markdown",
   "metadata": {},
   "source": [
    "### Question 3\n",
    "\n",
    "_What does your final architecture look like? (Type of model, layers, sizes, connectivity, etc.)  For reference on how to build a deep neural network using TensorFlow, see [Deep Neural Network in TensorFlow\n",
    "](https://classroom.udacity.com/nanodegrees/nd013/parts/fbf77062-5703-404e-b60c-95b78b2f3f9e/modules/6df7ae49-c61c-4bb2-a23e-6527e69209ec/lessons/b516a270-8600-4f93-a0a3-20dfeabe5da6/concepts/83a3a2a2-a9bd-4b7b-95b0-eb924ab14432) from the classroom._\n"
   ]
  },
  {
   "cell_type": "markdown",
   "metadata": {},
   "source": [
    "**Answer:**\n",
    "\n",
    "I took LeNet as a starting point and add 1 extra convolution layer, 1 extra fully connected layer, and couple of dropout layers. Please, take a look at comments bellow for sizes of layers."
   ]
  },
  {
   "cell_type": "code",
   "execution_count": 8,
   "metadata": {
    "collapsed": true
   },
   "outputs": [],
   "source": [
    "import tensorflow as tf\n",
    "\n",
    "from tensorflow.contrib.layers import flatten\n",
    "\n",
    "\n",
    "\"\"\"\n",
    "    LeNet for Traffic Signs.\n",
    "    \n",
    "    \n",
    "    Layer 1: Convolutional. Input = 32x32x1. Output = 28x28x6.\n",
    "    Activation.\n",
    "    Pooling. Input = 28x28x6. Output = 14x14x6.\n",
    "    \n",
    "    Layer 2: Convolutional. Output = 11x11x12.\n",
    "    Activation.\n",
    "    \n",
    "    * Dropout.\n",
    "    \n",
    "    * Layer 3: Convolutional. Output = 8x8x24.\n",
    "    * Activation.\n",
    "     \n",
    "    Pooling. Input = 8x8x24. Output = 4x4x24.\n",
    "    \n",
    "    Flatten. Input = 4x4x24. Output = 384.\n",
    "    \n",
    "    Layer 4: Fully Connected. Input = 384. Output = 200.\n",
    "    Activation.\n",
    "    \n",
    "    *Layer 5: Fully Connected. Input = 200. Output = 100.\n",
    "    *Activation.\n",
    "    \n",
    "    Layer 6: Fully Connected. Input = 100. Output = 75.\n",
    "    Activation.\n",
    "    \n",
    "    * Dropout\n",
    "    \n",
    "    Layer 7: Fully Connected. Input = 75. Output = 43\n",
    "\"\"\"\n",
    "\n",
    "def LeNetForTrafficSigns(x):    \n",
    "    # Arguments used for tf.truncated_normal, randomly defines variables for the weights and biases for each layer\n",
    "    mu = 0\n",
    "    sigma = 0.1\n",
    "    \n",
    "    # Layer 1: Convolutional. Input = 32x32x1. Output = 28x28x6.\n",
    "    conv1_W = tf.Variable(tf.truncated_normal(shape=(5, 5, 1, 6), mean = mu, stddev = sigma))\n",
    "    conv1_b = tf.Variable(tf.zeros(6))\n",
    "    conv1   = tf.nn.conv2d(x, conv1_W, strides=[1, 1, 1, 1], padding='VALID') + conv1_b\n",
    "\n",
    "    # Activation.\n",
    "    conv1 = tf.nn.relu(conv1)\n",
    "\n",
    "    # Pooling. Input = 28x28x6. Output = 14x14x6.\n",
    "    conv1 = tf.nn.max_pool(conv1, ksize=[1, 2, 2, 1], strides=[1, 2, 2, 1], padding='VALID')\n",
    "    \n",
    "    # Layer 2: Convolutional. Output = 11x11x12.\n",
    "    conv2_W = tf.Variable(tf.truncated_normal(shape=(4, 4, 6, 12), mean = mu, stddev = sigma))\n",
    "    conv2_b = tf.Variable(tf.zeros(12))\n",
    "    conv2   = tf.nn.conv2d(conv1, conv2_W, strides=[1, 1, 1, 1], padding='VALID') + conv2_b\n",
    "    \n",
    "    # Activation.\n",
    "    conv2 = tf.nn.relu(conv2)\n",
    "    \n",
    "    # Dropout.\n",
    "    conv2 = tf.nn.dropout(conv2, keep_probability)\n",
    "  \n",
    "    # Layer 3: Convolutional. Output = 8x8x24.\n",
    "    conv3_W = tf.Variable(tf.truncated_normal(shape=(4, 4, 12, 24), mean = mu, stddev = sigma))\n",
    "    conv3_b = tf.Variable(tf.zeros(24))\n",
    "    conv3   = tf.nn.conv2d(conv2, conv3_W, strides=[1, 1, 1, 1], padding='VALID') + conv3_b\n",
    "    \n",
    "    # Activation.\n",
    "    conv3 = tf.nn.relu(conv3)\n",
    "\n",
    "    # Pooling. Input = 8x8x24. Output = 4x4x24.\n",
    "    conv3 = tf.nn.max_pool(conv3, ksize=[1, 2, 2, 1], strides=[1, 2, 2, 1], padding='VALID')\n",
    "\n",
    "    # Flatten. Input = 4x4x24. Output = 384.\n",
    "    fc0   = flatten(conv3)\n",
    "    \n",
    "    # Layer 4: Fully Connected. Input = 384. Output = 200.\n",
    "    fc1_W = tf.Variable(tf.truncated_normal(shape=(384, 200), mean = mu, stddev = sigma))\n",
    "    fc1_b = tf.Variable(tf.zeros(200))\n",
    "    fc1   = tf.matmul(fc0, fc1_W) + fc1_b\n",
    "    \n",
    "    # Activation.\n",
    "    fc1    = tf.nn.relu(fc1)\n",
    "\n",
    "    # Layer 5: Fully Connected. Input = 200. Output = 100.\n",
    "    fc2_W  = tf.Variable(tf.truncated_normal(shape=(200, 100), mean = mu, stddev = sigma))\n",
    "    fc2_b  = tf.Variable(tf.zeros(100))\n",
    "    fc2    = tf.matmul(fc1, fc2_W) + fc2_b\n",
    "    \n",
    "    # Activation.\n",
    "    fc2    = tf.nn.relu(fc2)\n",
    "    \n",
    "    # Layer 6: Fully Connected. Input = 100. Output = 75.\n",
    "    fc3_W  = tf.Variable(tf.truncated_normal(shape=(100, 75), mean = mu, stddev = sigma))\n",
    "    fc3_b  = tf.Variable(tf.zeros(75))\n",
    "    fc3 = tf.matmul(fc2, fc3_W) + fc3_b\n",
    "    \n",
    "    # Activation.\n",
    "    fc3    = tf.nn.relu(fc3)\n",
    "    \n",
    "    # Dropout\n",
    "    fc3 = tf.nn.dropout(fc3, keep_probability)\n",
    "    \n",
    "    # Layer 7: Fully Connected. Input = 75. Output = 43.\n",
    "    fc4_W  = tf.Variable(tf.truncated_normal(shape=(75, 43), mean = mu, stddev = sigma))\n",
    "    fc4_b  = tf.Variable(tf.zeros(43))\n",
    "    logits = tf.matmul(fc3, fc4_W) + fc4_b\n",
    "\n",
    "    return logits"
   ]
  },
  {
   "cell_type": "markdown",
   "metadata": {},
   "source": [
    "### Question 4\n",
    "\n",
    "_How did you train your model? (Type of optimizer, batch size, epochs, hyperparameters, etc.)_\n"
   ]
  },
  {
   "cell_type": "markdown",
   "metadata": {},
   "source": [
    "I used AdamOptimizer, so learning rate and momentum get adjustable automatically.\n",
    "Runing model alot of times I understand that 65 epochs are enought, rate should be equal to 0.001, and I use 1.0 as a keep probability."
   ]
  },
  {
   "cell_type": "code",
   "execution_count": 9,
   "metadata": {
    "collapsed": true
   },
   "outputs": [],
   "source": [
    "# Placeholders for model.\n",
    "x = tf.placeholder(tf.float32, (None, 32, 32, 1))\n",
    "y = tf.placeholder(tf.int32, (None))\n",
    "one_hot_y = tf.one_hot(y, 43)\n",
    "keep_prob = tf.placeholder(tf.float32) \n",
    "\n",
    "# Hyper parameters.\n",
    "EPOCHS = 65\n",
    "BATCH_SIZE = 128\n",
    "rate = 0.001\n",
    "keep_probability = 1.0\n",
    "\n",
    "# Training chain.\n",
    "logits = LeNetForTrafficSigns(x)\n",
    "cross_entropy = tf.nn.softmax_cross_entropy_with_logits(logits, one_hot_y)\n",
    "loss_operation = tf.reduce_mean(cross_entropy)\n",
    "optimizer = tf.train.AdamOptimizer(learning_rate = rate)\n",
    "training_operation = optimizer.minimize(loss_operation)\n",
    "\n",
    "\n",
    "# Model Evaluation\n",
    "correct_prediction = tf.equal(tf.argmax(logits, 1), tf.argmax(one_hot_y, 1))\n",
    "accuracy_operation = tf.reduce_mean(tf.cast(correct_prediction, tf.float32))\n",
    "saver = tf.train.Saver()\n",
    "\n",
    "def evaluate(X_data, y_data):\n",
    "    num_examples = len(X_data)\n",
    "    total_accuracy = 0\n",
    "    sess = tf.get_default_session()\n",
    "    for offset in range(0, num_examples, BATCH_SIZE):\n",
    "        batch_x, batch_y = X_data[offset:offset+BATCH_SIZE], y_data[offset:offset+BATCH_SIZE]\n",
    "        accuracy = sess.run(accuracy_operation, feed_dict={x: batch_x, y: batch_y,\n",
    "                                                          keep_prob: keep_probability})\n",
    "        total_accuracy += (accuracy * len(batch_x))\n",
    "    return total_accuracy / num_examples"
   ]
  },
  {
   "cell_type": "code",
   "execution_count": 10,
   "metadata": {
    "collapsed": false
   },
   "outputs": [
    {
     "name": "stdout",
     "output_type": "stream",
     "text": [
      "Training...\n",
      "2017-02-03 16:27:05.119193\n",
      "EPOCH 1 ...\n",
      "Validation Accuracy = 0.869\n",
      "\n",
      "EPOCH 2 ...\n",
      "Validation Accuracy = 0.929\n",
      "\n",
      "EPOCH 3 ...\n",
      "Validation Accuracy = 0.955\n",
      "\n",
      "EPOCH 4 ...\n",
      "Validation Accuracy = 0.953\n",
      "\n",
      "EPOCH 5 ...\n",
      "Validation Accuracy = 0.947\n",
      "\n",
      "EPOCH 6 ...\n",
      "Validation Accuracy = 0.970\n",
      "\n",
      "EPOCH 7 ...\n",
      "Validation Accuracy = 0.967\n",
      "\n",
      "EPOCH 8 ...\n",
      "Validation Accuracy = 0.975\n",
      "\n",
      "EPOCH 9 ...\n",
      "Validation Accuracy = 0.974\n",
      "\n",
      "EPOCH 10 ...\n",
      "Validation Accuracy = 0.976\n",
      "\n",
      "EPOCH 11 ...\n",
      "Validation Accuracy = 0.975\n",
      "\n",
      "EPOCH 12 ...\n",
      "Validation Accuracy = 0.978\n",
      "\n",
      "EPOCH 13 ...\n",
      "Validation Accuracy = 0.979\n",
      "\n",
      "EPOCH 14 ...\n",
      "Validation Accuracy = 0.972\n",
      "\n",
      "EPOCH 15 ...\n",
      "Validation Accuracy = 0.982\n",
      "\n",
      "EPOCH 16 ...\n",
      "Validation Accuracy = 0.971\n",
      "\n",
      "EPOCH 17 ...\n",
      "Validation Accuracy = 0.983\n",
      "\n",
      "EPOCH 18 ...\n",
      "Validation Accuracy = 0.960\n",
      "\n",
      "EPOCH 19 ...\n",
      "Validation Accuracy = 0.981\n",
      "\n",
      "EPOCH 20 ...\n",
      "Validation Accuracy = 0.981\n",
      "\n",
      "EPOCH 21 ...\n",
      "Validation Accuracy = 0.978\n",
      "\n",
      "EPOCH 22 ...\n",
      "Validation Accuracy = 0.982\n",
      "\n",
      "EPOCH 23 ...\n",
      "Validation Accuracy = 0.972\n",
      "\n",
      "EPOCH 24 ...\n",
      "Validation Accuracy = 0.979\n",
      "\n",
      "EPOCH 25 ...\n",
      "Validation Accuracy = 0.976\n",
      "\n",
      "EPOCH 26 ...\n",
      "Validation Accuracy = 0.982\n",
      "\n",
      "EPOCH 27 ...\n",
      "Validation Accuracy = 0.974\n",
      "\n",
      "EPOCH 28 ...\n",
      "Validation Accuracy = 0.971\n",
      "\n",
      "EPOCH 29 ...\n",
      "Validation Accuracy = 0.978\n",
      "\n",
      "EPOCH 30 ...\n",
      "Validation Accuracy = 0.984\n",
      "\n",
      "EPOCH 31 ...\n",
      "Validation Accuracy = 0.988\n",
      "\n",
      "EPOCH 32 ...\n",
      "Validation Accuracy = 0.990\n",
      "\n",
      "EPOCH 33 ...\n",
      "Validation Accuracy = 0.988\n",
      "\n",
      "EPOCH 34 ...\n",
      "Validation Accuracy = 0.971\n",
      "\n",
      "EPOCH 35 ...\n",
      "Validation Accuracy = 0.982\n",
      "\n",
      "EPOCH 36 ...\n",
      "Validation Accuracy = 0.979\n",
      "\n",
      "EPOCH 37 ...\n",
      "Validation Accuracy = 0.978\n",
      "\n",
      "EPOCH 38 ...\n",
      "Validation Accuracy = 0.983\n",
      "\n",
      "EPOCH 39 ...\n",
      "Validation Accuracy = 0.983\n",
      "\n",
      "EPOCH 40 ...\n",
      "Validation Accuracy = 0.982\n",
      "\n",
      "EPOCH 41 ...\n",
      "Validation Accuracy = 0.980\n",
      "\n",
      "EPOCH 42 ...\n",
      "Validation Accuracy = 0.982\n",
      "\n",
      "EPOCH 43 ...\n",
      "Validation Accuracy = 0.986\n",
      "\n",
      "EPOCH 44 ...\n",
      "Validation Accuracy = 0.982\n",
      "\n",
      "EPOCH 45 ...\n",
      "Validation Accuracy = 0.986\n",
      "\n",
      "EPOCH 46 ...\n",
      "Validation Accuracy = 0.981\n",
      "\n",
      "EPOCH 47 ...\n",
      "Validation Accuracy = 0.977\n",
      "\n",
      "EPOCH 48 ...\n",
      "Validation Accuracy = 0.984\n",
      "\n",
      "EPOCH 49 ...\n",
      "Validation Accuracy = 0.980\n",
      "\n",
      "EPOCH 50 ...\n",
      "Validation Accuracy = 0.977\n",
      "\n",
      "EPOCH 51 ...\n",
      "Validation Accuracy = 0.980\n",
      "\n",
      "EPOCH 52 ...\n",
      "Validation Accuracy = 0.984\n",
      "\n",
      "EPOCH 53 ...\n",
      "Validation Accuracy = 0.982\n",
      "\n",
      "EPOCH 54 ...\n",
      "Validation Accuracy = 0.983\n",
      "\n",
      "EPOCH 55 ...\n",
      "Validation Accuracy = 0.982\n",
      "\n",
      "EPOCH 56 ...\n",
      "Validation Accuracy = 0.988\n",
      "\n",
      "EPOCH 57 ...\n",
      "Validation Accuracy = 0.986\n",
      "\n",
      "EPOCH 58 ...\n",
      "Validation Accuracy = 0.986\n",
      "\n",
      "EPOCH 59 ...\n",
      "Validation Accuracy = 0.981\n",
      "\n",
      "EPOCH 60 ...\n",
      "Validation Accuracy = 0.984\n",
      "\n",
      "EPOCH 61 ...\n",
      "Validation Accuracy = 0.983\n",
      "\n",
      "EPOCH 62 ...\n",
      "Validation Accuracy = 0.988\n",
      "\n",
      "EPOCH 63 ...\n",
      "Validation Accuracy = 0.962\n",
      "\n",
      "EPOCH 64 ...\n",
      "Validation Accuracy = 0.984\n",
      "\n",
      "EPOCH 65 ...\n",
      "Validation Accuracy = 0.985\n",
      "\n",
      "2017-02-03 16:34:57.812193\n",
      "Model saved\n"
     ]
    }
   ],
   "source": [
    "# Training the model.\n",
    "from datetime import datetime\n",
    "\n",
    "with tf.Session() as sess:\n",
    "    sess.run(tf.global_variables_initializer())\n",
    "    num_examples = len(X_train)\n",
    "    \n",
    "    print(\"Training...\")\n",
    "    print(datetime.now())\n",
    "    for i in range(EPOCHS):\n",
    "        X_train, y_train = shuffle(X_train, y_train)\n",
    "        for offset in range(0, num_examples, BATCH_SIZE):\n",
    "            end = offset + BATCH_SIZE\n",
    "            batch_x, batch_y = X_train[offset:end], y_train[offset:end]\n",
    "            sess.run(training_operation, feed_dict={x: batch_x, y: batch_y,\n",
    "                                                   keep_prob: keep_probability})\n",
    "            \n",
    "        validation_accuracy = evaluate(X_validation, y_validation)\n",
    "        print(\"EPOCH {} ...\".format(i+1))\n",
    "        print(\"Validation Accuracy = {:.3f}\".format(validation_accuracy))\n",
    "        print()\n",
    "    print(datetime.now())    \n",
    "    saver.save(sess, './lenet')\n",
    "    print(\"Model saved\")"
   ]
  },
  {
   "cell_type": "code",
   "execution_count": 11,
   "metadata": {
    "collapsed": false,
    "scrolled": true
   },
   "outputs": [
    {
     "name": "stdout",
     "output_type": "stream",
     "text": [
      "Test Accuracy = 0.935\n"
     ]
    }
   ],
   "source": [
    "# Evaluate model.\n",
    "with tf.Session() as sess:\n",
    "    saver.restore(sess, tf.train.latest_checkpoint('.'))\n",
    "\n",
    "    test_accuracy = evaluate(X_test, y_test)\n",
    "    print(\"Test Accuracy = {:.3f}\".format(test_accuracy))"
   ]
  },
  {
   "cell_type": "markdown",
   "metadata": {},
   "source": [
    "### Question 5\n",
    "\n",
    "\n",
    "_What approach did you take in coming up with a solution to this problem? It may have been a process of trial and error, in which case, outline the steps you took to get to the final solution and why you chose those steps. Perhaps your solution involved an already well known implementation or architecture. In this case, discuss why you think this is suitable for the current problem._"
   ]
  },
  {
   "cell_type": "markdown",
   "metadata": {},
   "source": [
    "Current approach was reached in iterative maneer. I took LeNet architecture and tried to work with it as is. Used color images and no extra layers. Results showed me test accuracy around 86%. Next step was to grayscale images on preprocessing step.\n",
    "Classes of traffic signs that should be detected by network are not hevily depends on color. So, I, grayscalled input set and that leads to 90+% test accuracy. After adding extra convolutional layer, two dropout layers and one fully connected layers, model end up on 92-93% of test accuracy. Interesting fact happend when I experimenting with learing rate and by mistake modified sigma parameter for generating random values for weigths. I decreased it in 100 times and nework stopped to learn.\n",
    "During experimenting with network I understand that result of predictin is heavily depends on input data. Even on the same image set, it may happend that model shows different result in +- 5%."
   ]
  },
  {
   "cell_type": "markdown",
   "metadata": {},
   "source": [
    "---\n",
    "\n",
    "## Step 3: Test a Model on New Images\n",
    "\n",
    "Take several pictures of traffic signs that you find on the web or around you (at least five), and run them through your classifier on your computer to produce example results. The classifier might not recognize some local signs but it could prove interesting nonetheless.\n",
    "\n",
    "You may find `signnames.csv` useful as it contains mappings from the class id (integer) to the actual sign name."
   ]
  },
  {
   "cell_type": "markdown",
   "metadata": {},
   "source": [
    "### Implementation\n",
    "\n",
    "Use the code cell (or multiple code cells, if necessary) to implement the first step of your project. Once you have completed your implementation and are satisfied with the results, be sure to thoroughly answer the questions that follow."
   ]
  },
  {
   "cell_type": "code",
   "execution_count": 12,
   "metadata": {
    "collapsed": false
   },
   "outputs": [
    {
     "data": {
      "image/png": "[encoded data removed]",
      "text/plain": [
       "<matplotlib.figure.Figure at 0x12e0b7588>"
      ]
     },
     "metadata": {},
     "output_type": "display_data"
    },
    {
     "name": "stdout",
     "output_type": "stream",
     "text": [
      "Test new images accuracy = 0.667\n"
     ]
    }
   ],
   "source": [
    "import matplotlib.image as mpimg\n",
    "import os\n",
    "\n",
    "### Load the images and plot them here.\n",
    "### Feel free to use as many code cells as needed.\n",
    "# New Input array image\n",
    "new_images = {\"22_s.jpg\": 22,\n",
    "              \"32_s.jpg\": 32,\n",
    "              \"12_s.jpg\": 12,\n",
    "              \"7_s.jpg\": 7,\n",
    "              \"14_s.jpg\": 14,\n",
    "              \"8_s.jpg\": 8}\n",
    "\n",
    "new_images_folder = \"new_images\"\n",
    "\n",
    "new_images_count = len(new_images)\n",
    "\n",
    "f, axarr = plt.subplots(1, new_images_count)\n",
    "\n",
    "# Image sets with lables.\n",
    "X_new_images = np.uint8(np.zeros((new_images_count,32,32,3)))\n",
    "y_new_images = np.uint8(np.zeros(new_images_count))\n",
    "\n",
    "i = 0\n",
    "for file_name, sign_label in new_images.items():\n",
    "    try:\n",
    "        image = mpimg.imread(os.path.join(new_images_folder, file_name))\n",
    "    except OSError:\n",
    "        continue\n",
    "        \n",
    "    y_new_images[i] = sign_label\n",
    "    X_new_images[i] = image\n",
    "    \n",
    "    axarr[i].imshow(image)\n",
    "    i += 1\n",
    "        \n",
    "plt.show()\n",
    "\n",
    "# Preprocess new images\n",
    "X_new_images = grayscale(X_new_images)\n",
    "\n",
    "with tf.Session() as sess:\n",
    "    saver.restore(sess, tf.train.latest_checkpoint('.'))\n",
    "    test_accuracy = evaluate(X_new_images, y_new_images)\n",
    "    print(\"Test new images accuracy = {:.3f}\".format(test_accuracy))"
   ]
  },
  {
   "cell_type": "markdown",
   "metadata": {},
   "source": [
    "### Question 6\n",
    "\n",
    "_Choose five candidate images of traffic signs and provide them in the report. Are there any particular qualities of the image(s) that might make classification difficult? It could be helpful to plot the images in the notebook._\n",
    "\n"
   ]
  },
  {
   "cell_type": "markdown",
   "metadata": {},
   "source": [
    "1. Priority sign. Dificulties: rotated\n",
    "2. Stop sign detected corretly\n",
    "3. 100 km limit. Red circle does not fully connected bellow. \n",
    "4. Bumpy road. Bumps are smoothed too much\n",
    "5. End of all restrictions. No particular qualities.\n",
    "6. Crossed 120. This sign does not exist in training set at all. I marked it as 8 class. But that is wrong for sure."
   ]
  },
  {
   "cell_type": "code",
   "execution_count": 13,
   "metadata": {
    "collapsed": false
   },
   "outputs": [
    {
     "name": "stdout",
     "output_type": "stream",
     "text": [
      "[False  True  True  True False  True]\n"
     ]
    }
   ],
   "source": [
    "\n",
    "with tf.Session() as sess:\n",
    "    saver.restore(sess, tf.train.latest_checkpoint('.'))\n",
    "    prediction = sess.run(correct_prediction, feed_dict={x: X_new_images, y: y_new_images,\n",
    "                                                        keep_prob: keep_probability})\n",
    "    print(prediction)    "
   ]
  },
  {
   "cell_type": "markdown",
   "metadata": {},
   "source": [
    "### Question 7\n",
    "\n",
    "_Is your model able to perform equally well on captured pictures when compared to testing on the dataset? The simplest way to do this check the accuracy of the predictions. For example, if the model predicted 1 out of 5 signs correctly, it's 20% accurate._\n",
    "\n",
    "_**NOTE:** You could check the accuracy manually by using `signnames.csv` (same directory). This file has a mapping from the class id (0-42) to the corresponding sign name. So, you could take the class id the model outputs, lookup the name in `signnames.csv` and see if it matches the sign from the image._\n"
   ]
  },
  {
   "cell_type": "markdown",
   "metadata": {},
   "source": [
    "**Answer:**"
   ]
  },
  {
   "cell_type": "markdown",
   "metadata": {
    "collapsed": true
   },
   "source": [
    "On new images model shows 66.7% accuracy. But if not take in to account a crossed 120 km speed limit image, then accuracy is 80%\n",
    "\n",
    "But on testing data set 93%. I expect that the main issue is only 6 images in new testing set."
   ]
  },
  {
   "cell_type": "markdown",
   "metadata": {},
   "source": [
    "### Question 8\n",
    "\n",
    "*Use the model's softmax probabilities to visualize the **certainty** of its predictions, [`tf.nn.top_k`](https://www.tensorflow.org/versions/r0.12/api_docs/python/nn.html#top_k) could prove helpful here. Which predictions is the model certain of? Uncertain? If the model was incorrect in its initial prediction, does the correct prediction appear in the top k? (k should be 5 at most)*\n"
   ]
  },
  {
   "cell_type": "markdown",
   "metadata": {},
   "source": [
    "**Answer:**\n",
    "\n",
    "Model failed to detect crossed 120 km limit. It is very certaint that it is class 40 that is \"Roundabout mandatory\" class.\n",
    "Model certant regarding to speed limit 100, End of all restrictions class and stop sign.\n",
    "\n",
    "Model failed to detect \"Bumpy road\" with class 22 and it certaint that it is class 33 - \"Turn right ahead\"\n",
    "Class 22 presents in top5 but it is very uncertain 1.89e-6."
   ]
  },
  {
   "cell_type": "code",
   "execution_count": 14,
   "metadata": {
    "collapsed": false
   },
   "outputs": [
    {
     "name": "stdout",
     "output_type": "stream",
     "text": [
      "TopKV2(values=array([[  9.99977708e-01,   2.21084956e-05,   1.65255102e-07,\n",
      "          1.41906042e-08,   1.60395867e-13],\n",
      "       [  1.00000000e+00,   2.09136686e-26,   6.70416876e-29,\n",
      "          1.96060406e-29,   8.23711510e-30],\n",
      "       [  1.00000000e+00,   2.77912947e-13,   9.55487557e-26,\n",
      "          1.21285839e-26,   1.51348502e-27],\n",
      "       [  1.00000000e+00,   8.27728178e-36,   0.00000000e+00,\n",
      "          0.00000000e+00,   0.00000000e+00],\n",
      "       [  9.51873600e-01,   4.81191166e-02,   4.66363281e-06,\n",
      "          1.89915795e-06,   6.89670628e-07],\n",
      "       [  1.00000000e+00,   6.42544268e-34,   4.96616115e-35,\n",
      "          2.22836123e-36,   1.43544889e-36]], dtype=float32), indices=array([[27, 11, 24, 18, 28],\n",
      "       [12, 11, 29,  3, 23],\n",
      "       [32,  6,  1,  8, 38],\n",
      "       [ 7,  8,  0,  1,  2],\n",
      "       [33, 26,  1, 22, 35],\n",
      "       [14,  2, 38, 25,  8]], dtype=int32))\n"
     ]
    },
    {
     "data": {
      "image/png": "[encoded data removed]",
      "text/plain": [
       "<matplotlib.figure.Figure at 0x13ccfbe48>"
      ]
     },
     "metadata": {},
     "output_type": "display_data"
    },
    {
     "data": {
      "image/png": "[encoded data removed]",
      "text/plain": [
       "<matplotlib.figure.Figure at 0x12e012ba8>"
      ]
     },
     "metadata": {},
     "output_type": "display_data"
    },
    {
     "data": {
      "image/png": "[encoded data removed]",
      "text/plain": [
       "<matplotlib.figure.Figure at 0x12e1f1ef0>"
      ]
     },
     "metadata": {},
     "output_type": "display_data"
    },
    {
     "data": {
      "image/png": "[encoded data removed]",
      "text/plain": [
       "<matplotlib.figure.Figure at 0x12dd142e8>"
      ]
     },
     "metadata": {},
     "output_type": "display_data"
    },
    {
     "data": {
      "image/png": "[encoded data removed]",
      "text/plain": [
       "<matplotlib.figure.Figure at 0x12e1b7898>"
      ]
     },
     "metadata": {},
     "output_type": "display_data"
    },
    {
     "data": {
      "image/png": "[encoded data removed]",
      "text/plain": [
       "<matplotlib.figure.Figure at 0x12e10ed30>"
      ]
     },
     "metadata": {},
     "output_type": "display_data"
    }
   ],
   "source": [
    "\n",
    "softmax_res = tf.nn.softmax(logits)\n",
    "top_five = tf.nn.top_k(softmax_res, k=5)\n",
    "\n",
    "with tf.Session() as sess:\n",
    "    saver.restore(sess, tf.train.latest_checkpoint('.'))\n",
    "    top_five_res = sess.run(top_five, feed_dict={x: X_new_images, y: y_new_images, keep_prob: keep_probability})\n",
    "    print(top_five_res)\n",
    "    \n",
    "top_five_res_values = top_five_res.values\n",
    "top_five_res_indices = top_five_res.indices\n",
    "\n",
    "for idx, values in enumerate(top_five_res_values):\n",
    "    x = top_five_res_indices[idx][:]\n",
    "    fig = plt.figure()    \n",
    "    plt.bar(x, values, color=\"green\")\n",
    "    plt.axis([0, 42, 0, 1])\n",
    "    name = y_new_images[idx]\n",
    "    plt.title(name)    \n",
    "    "
   ]
  }
 ],
 "metadata": {
  "anaconda-cloud": {},
  "kernelspec": {
   "display_name": "Python 3",
   "language": "python",
   "name": "python3"
  },
  "language_info": {
   "codemirror_mode": {
    "name": "ipython",
    "version": 3
   },
   "file_extension": ".py",
   "mimetype": "text/x-python",
   "name": "python",
   "nbconvert_exporter": "python",
   "pygments_lexer": "ipython3",
   "version": "3.5.2"
  },
  "widgets": {
   "state": {},
   "version": "1.1.2"
  }
 },
 "nbformat": 4,
 "nbformat_minor": 1
}
